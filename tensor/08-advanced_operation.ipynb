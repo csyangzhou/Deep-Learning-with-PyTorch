{
 "cells": [
  {
   "cell_type": "markdown",
   "metadata": {},
   "source": [
    "# advanced operation"
   ]
  },
  {
   "cell_type": "markdown",
   "metadata": {},
   "source": [
    "### where"
   ]
  },
  {
   "cell_type": "code",
   "execution_count": 1,
   "metadata": {},
   "outputs": [],
   "source": [
    "import torch"
   ]
  },
  {
   "cell_type": "code",
   "execution_count": 4,
   "metadata": {},
   "outputs": [
    {
     "name": "stdout",
     "output_type": "stream",
     "text": [
      "tensor([[0.0902, 0.4060],\n",
      "        [0.2628, 0.5734]]) tensor([[0., 0.],\n",
      "        [0., 0.]]) tensor([[1., 1.],\n",
      "        [1., 1.]])\n"
     ]
    }
   ],
   "source": [
    "cond = torch.rand([2,2])\n",
    "a = torch.zeros([2,2])\n",
    "b = torch.ones([2,2])\n",
    "print(cond, a, b)"
   ]
  },
  {
   "cell_type": "code",
   "execution_count": 5,
   "metadata": {},
   "outputs": [
    {
     "data": {
      "text/plain": [
       "tensor([[1., 1.],\n",
       "        [1., 0.]])"
      ]
     },
     "execution_count": 5,
     "metadata": {},
     "output_type": "execute_result"
    }
   ],
   "source": [
    "torch.where(cond>0.5, a, b)"
   ]
  },
  {
   "cell_type": "markdown",
   "metadata": {},
   "source": [
    "### gather"
   ]
  },
  {
   "cell_type": "code",
   "execution_count": 9,
   "metadata": {},
   "outputs": [
    {
     "name": "stdout",
     "output_type": "stream",
     "text": [
      "tensor([[ 2.6434e-03,  1.4170e+00, -2.9069e-02, -5.5754e-02,  1.6232e+00,\n",
      "          5.0729e-01, -6.6894e-01, -1.8245e-01, -1.1502e-01, -1.4409e+00],\n",
      "        [ 1.6687e+00,  3.7441e-01,  4.4130e-01, -1.2576e+00,  8.5769e-01,\n",
      "         -4.5603e-01, -9.7807e-02,  2.6097e-01,  3.5275e-01,  2.4614e-01],\n",
      "        [-6.6616e-01, -8.0910e-01, -8.0176e-01, -1.7251e+00,  1.3693e-01,\n",
      "         -1.2411e+00,  7.7146e-01,  5.6614e-01, -1.1644e+00, -1.4633e+00],\n",
      "        [-4.4846e-01,  1.0492e+00, -2.9411e+00,  1.7419e+00, -8.7228e-01,\n",
      "         -3.9410e-01,  1.3997e+00, -1.6236e+00, -1.9742e-01, -3.6099e-01]])\n",
      "torch.return_types.topk(\n",
      "values=tensor([[1.6232, 1.4170, 0.5073],\n",
      "        [1.6687, 0.8577, 0.4413],\n",
      "        [0.7715, 0.5661, 0.1369],\n",
      "        [1.7419, 1.3997, 1.0492]]),\n",
      "indices=tensor([[4, 1, 5],\n",
      "        [0, 4, 2],\n",
      "        [6, 7, 4],\n",
      "        [3, 6, 1]]))\n"
     ]
    }
   ],
   "source": [
    "prob = torch.randn(4, 10)\n",
    "idx = prob.topk(dim=1, k=3)\n",
    "print(prob)\n",
    "print(idx)"
   ]
  },
  {
   "cell_type": "code",
   "execution_count": 10,
   "metadata": {},
   "outputs": [
    {
     "data": {
      "text/plain": [
       "tensor([[4, 1, 5],\n",
       "        [0, 4, 2],\n",
       "        [6, 7, 4],\n",
       "        [3, 6, 1]])"
      ]
     },
     "execution_count": 10,
     "metadata": {},
     "output_type": "execute_result"
    }
   ],
   "source": [
    "idx[1]"
   ]
  },
  {
   "cell_type": "code",
   "execution_count": null,
   "metadata": {},
   "outputs": [],
   "source": []
  }
 ],
 "metadata": {
  "kernelspec": {
   "display_name": "Python 3",
   "language": "python",
   "name": "python3"
  },
  "language_info": {
   "codemirror_mode": {
    "name": "ipython",
    "version": 3
   },
   "file_extension": ".py",
   "mimetype": "text/x-python",
   "name": "python",
   "nbconvert_exporter": "python",
   "pygments_lexer": "ipython3",
   "version": "3.6.8"
  }
 },
 "nbformat": 4,
 "nbformat_minor": 2
}
